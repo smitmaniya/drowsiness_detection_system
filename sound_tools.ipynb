{
 "cells": [
  {
   "cell_type": "code",
   "execution_count": 3,
   "id": "strong-dispatch",
   "metadata": {},
   "outputs": [],
   "source": [
    "import sounddevice as sdevice\n",
    "import soundfile as sfile\n",
    "\n",
    "\n",
    "ALARM = \"loud_alarm.wav\"\n",
    "BREAK = \"break_voice_sound.wav\"\n",
    "\n",
    "\n",
    "def play_alarm_sound():\n",
    "    # reading alarm file\n",
    "    data, sound = sfile.read(ALARM)\n",
    "    sdevice.play(data, sound)\n",
    "\n",
    "\n",
    "def break_suggest():\n",
    "    # reading alarm file\n",
    "    data, sound = sfile.read(BREAK)\n",
    "    sdevice.play(data, sound)\n",
    "    status = sdevice.wait()"
   ]
  },
  {
   "cell_type": "code",
   "execution_count": null,
   "id": "center-moscow",
   "metadata": {},
   "outputs": [],
   "source": []
  },
  {
   "cell_type": "code",
   "execution_count": null,
   "id": "communist-ivory",
   "metadata": {},
   "outputs": [],
   "source": []
  },
  {
   "cell_type": "code",
   "execution_count": null,
   "id": "acute-massachusetts",
   "metadata": {},
   "outputs": [],
   "source": []
  }
 ],
 "metadata": {
  "kernelspec": {
   "display_name": "Python 3",
   "language": "python",
   "name": "python3"
  },
  "language_info": {
   "codemirror_mode": {
    "name": "ipython",
    "version": 3
   },
   "file_extension": ".py",
   "mimetype": "text/x-python",
   "name": "python",
   "nbconvert_exporter": "python",
   "pygments_lexer": "ipython3",
   "version": "3.6.12"
  }
 },
 "nbformat": 4,
 "nbformat_minor": 5
}
