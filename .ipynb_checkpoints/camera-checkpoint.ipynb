{
 "cells": [
  {
   "cell_type": "code",
   "execution_count": 1,
   "id": "accompanied-reasoning",
   "metadata": {},
   "outputs": [],
   "source": [
    "import cv2\n",
    "from frame_processing_tools import process_frame\n",
    "\n",
    "\n",
    "class VideoCamera:\n",
    "\n",
    "    def __init__(self, fd, flp):  # constructor\n",
    "        self.vid = cv2.VideoCapture(0)\n",
    "        self.fd = fd\n",
    "        self.flp = flp\n",
    "\n",
    "    def __del__(self):  # destructor, no need for destroy windows as we are using webpage\n",
    "        self.vid.release()\n",
    "\n",
    "    def get_frame(self):\n",
    "        success, frame = self.vid.read()\n",
    "        frame = process_frame(frame, self.fd, self.flp)\n",
    "\n",
    "        return frame"
   ]
  },
  {
   "cell_type": "code",
   "execution_count": null,
   "id": "first-player",
   "metadata": {},
   "outputs": [],
   "source": []
  },
  {
   "cell_type": "code",
   "execution_count": null,
   "id": "saved-building",
   "metadata": {},
   "outputs": [],
   "source": []
  },
  {
   "cell_type": "code",
   "execution_count": null,
   "id": "becoming-scratch",
   "metadata": {},
   "outputs": [],
   "source": []
  }
 ],
 "metadata": {
  "kernelspec": {
   "display_name": "Python 3",
   "language": "python",
   "name": "python3"
  },
  "language_info": {
   "codemirror_mode": {
    "name": "ipython",
    "version": 3
   },
   "file_extension": ".py",
   "mimetype": "text/x-python",
   "name": "python",
   "nbconvert_exporter": "python",
   "pygments_lexer": "ipython3",
   "version": "3.6.12"
  }
 },
 "nbformat": 4,
 "nbformat_minor": 5
}
