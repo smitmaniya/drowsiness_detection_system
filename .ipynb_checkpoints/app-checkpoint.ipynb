{
 "cells": [
  {
   "cell_type": "code",
   "execution_count": 1,
   "id": "lined-modeling",
   "metadata": {},
   "outputs": [
    {
     "name": "stdout",
     "output_type": "stream",
     "text": [
      " * Serving Flask app \"__main__\" (lazy loading)\n",
      " * Environment: production\n",
      "   WARNING: This is a development server. Do not use it in a production deployment.\n",
      "   Use a production WSGI server instead.\n",
      " * Debug mode: on\n"
     ]
    },
    {
     "name": "stderr",
     "output_type": "stream",
     "text": [
      " * Restarting with stat\n"
     ]
    },
    {
     "ename": "SystemExit",
     "evalue": "1",
     "output_type": "error",
     "traceback": [
      "An exception has occurred, use %tb to see the full traceback.\n",
      "\u001b[1;31mSystemExit\u001b[0m\u001b[1;31m:\u001b[0m 1\n"
     ]
    },
    {
     "name": "stderr",
     "output_type": "stream",
     "text": [
      "C:\\Users\\LENOVO\\Anaconda3\\envs\\env_Chintan\\lib\\site-packages\\IPython\\core\\interactiveshell.py:3445: UserWarning: To exit: use 'exit', 'quit', or Ctrl-D.\n",
      "  warn(\"To exit: use 'exit', 'quit', or Ctrl-D.\", stacklevel=1)\n"
     ]
    }
   ],
   "source": [
    "from flask import Flask, render_template, Response\n",
    "from camera import VideoCamera\n",
    "import cv2\n",
    "from sound_tools import play_alarm_sound, break_suggest\n",
    "import dlib\n",
    "\n",
    "\n",
    "app = Flask(__name__)\n",
    "\n",
    "EAR_THRESHOLD = 0.25\n",
    "CONSECUTIVE_FRAMES_THRESHOLD = 20\n",
    "BREAK_LIMIT = 4\n",
    "SHAPE_PREDICTOR_FILE = \"shape_predictor_68_face_landmarks.dat\"\n",
    "\n",
    "\n",
    "@app.route('/')\n",
    "def home():\n",
    "    return render_template(\"Homepage.html\")  # app route \"/\" delivers whatever is in its function\n",
    "\n",
    "\n",
    "@app.route('/alert_system')\n",
    "def alert_system():\n",
    "    return render_template(\"Webcam.html\")\n",
    "\n",
    "\n",
    "# @app.route('/driving_tips')\n",
    "# def driving_tips():\n",
    "#     return render_template(\"driving_tips.html\")\n",
    "\n",
    "\n",
    "@app.route('/video_feed')\n",
    "def video_feed():\n",
    "    facial_shape_predictor = SHAPE_PREDICTOR_FILE\n",
    "    face_detector = dlib.get_frontal_face_detector()\n",
    "    facial_landmark_predictor = dlib.shape_predictor(facial_shape_predictor)\n",
    "\n",
    "    return Response(gen_jpeg_frame(VideoCamera(face_detector, facial_landmark_predictor)), mimetype='multipart/x'\n",
    "                                                                                                    '-mixed-replace; '\n",
    "                                                                                                    'boundary=frame')\n",
    "\n",
    "\n",
    "\"\"\"mimetype is response media type, for the purpose of having a stream where each part replaces the previous\n",
    " part the multipart/x-mixed-replace content type must be used - here each frame is a part\"\"\"\n",
    "\n",
    "\n",
    "# flask uses a generator function to implement streaming\n",
    "def gen_jpeg_frame(vid_camera):  # generates jpeg frames from input stream\n",
    "    # counting number of frames to play alert sound\n",
    "    frame_count = 0\n",
    "    break_count = 0\n",
    "\n",
    "    while True:\n",
    "        frame, ear = vid_camera.get_frame()\n",
    "        if frame is None:\n",
    "            continue\n",
    "\n",
    "        success, jpeg = cv2.imencode(\".jpg\", frame)\n",
    "\n",
    "        if not success:\n",
    "            continue\n",
    "\n",
    "        yield (b'--frame\\r\\n'\n",
    "               b'Content-Type: image/jpeg\\r\\n\\r\\n' + jpeg.tobytes() + b'\\r\\n\\r\\n')\n",
    "\n",
    "        if ear < 0:\n",
    "            continue\n",
    "\n",
    "        if ear <= EAR_THRESHOLD:\n",
    "            frame_count += 1\n",
    "\n",
    "            if frame_count >= CONSECUTIVE_FRAMES_THRESHOLD:\n",
    "                break_count += 1\n",
    "                play_alarm_sound()\n",
    "                frame_count = 0\n",
    "                if break_count >= BREAK_LIMIT:\n",
    "                    break_suggest()\n",
    "                    break_count = 0\n",
    "\n",
    "        else:\n",
    "            frame_count = 0\n",
    "\n",
    "\n",
    "if __name__ == '__main__':\n",
    "    app.run(debug=True)"
   ]
  },
  {
   "cell_type": "code",
   "execution_count": null,
   "id": "blocked-reception",
   "metadata": {},
   "outputs": [],
   "source": []
  },
  {
   "cell_type": "code",
   "execution_count": null,
   "id": "executive-affect",
   "metadata": {},
   "outputs": [],
   "source": []
  },
  {
   "cell_type": "code",
   "execution_count": null,
   "id": "gentle-spelling",
   "metadata": {},
   "outputs": [],
   "source": []
  }
 ],
 "metadata": {
  "kernelspec": {
   "display_name": "Python 3",
   "language": "python",
   "name": "python3"
  },
  "language_info": {
   "codemirror_mode": {
    "name": "ipython",
    "version": 3
   },
   "file_extension": ".py",
   "mimetype": "text/x-python",
   "name": "python",
   "nbconvert_exporter": "python",
   "pygments_lexer": "ipython3",
   "version": "3.6.12"
  }
 },
 "nbformat": 4,
 "nbformat_minor": 5
}
